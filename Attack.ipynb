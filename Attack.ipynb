{
 "cells": [
  {
   "cell_type": "code",
   "execution_count": 10,
   "metadata": {},
   "outputs": [],
   "source": [
    "import numpy as np\n",
    "import time\n",
    "from matplotlib import pyplot as plt"
   ]
  },
  {
   "cell_type": "code",
   "execution_count": 11,
   "metadata": {},
   "outputs": [],
   "source": [
    "%run ./utils.ipynb"
   ]
  },
  {
   "cell_type": "code",
   "execution_count": 12,
   "metadata": {},
   "outputs": [
    {
     "name": "stdout",
     "output_type": "stream",
     "text": [
      "Attacking sucessed\n",
      "Plain: finethanks\n",
      "Cipher: finethanks\n"
     ]
    }
   ],
   "source": [
    "e=0\n",
    "n=0\n",
    "plain_txt=''\n",
    "count = 0\n",
    "cipher_txt=[]\n",
    "file1 = open('plain_cipher_Bob.txt', 'r')\n",
    "for line in file1:\n",
    "    if count==0:\n",
    "     plain_txt= line.strip()\n",
    "    else:\n",
    "       cipher_txt.append(int(line.strip()))\n",
    "    count+=1\n",
    "file1.close()\n",
    "\n",
    "file1 = open('public_key_Alice.txt', 'r')\n",
    "count = 0\n",
    "for line in file1:\n",
    "    if count==0:\n",
    "      e=int(line.strip())\n",
    "    else:\n",
    "       n=int(line.strip())\n",
    "    count+=1\n",
    "file1.close()\n",
    "\n",
    "start = time.time()\n",
    "d=getting_d(n,e)\n",
    "checking_decryption(cipher_txt,plain_txt,d,n)\n",
    "end = time.time()\n",
    "file = open('timing.txt', 'a')\n",
    "file.write(str(end-start)+\"\\n\")\n",
    "file.close()"
   ]
  }
 ],
 "metadata": {
  "kernelspec": {
   "display_name": "Python 3",
   "language": "python",
   "name": "python3"
  },
  "language_info": {
   "codemirror_mode": {
    "name": "ipython",
    "version": 3
   },
   "file_extension": ".py",
   "mimetype": "text/x-python",
   "name": "python",
   "nbconvert_exporter": "python",
   "pygments_lexer": "ipython3",
   "version": "3.11.2"
  },
  "orig_nbformat": 4,
  "vscode": {
   "interpreter": {
    "hash": "c261aea317cc0286b3b3261fbba9abdec21eaa57589985bb7a274bf54d6cc0a7"
   }
  }
 },
 "nbformat": 4,
 "nbformat_minor": 2
}
