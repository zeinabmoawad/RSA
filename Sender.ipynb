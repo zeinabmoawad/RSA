{
 "cells": [
  {
   "attachments": {},
   "cell_type": "markdown",
   "metadata": {},
   "source": [
    "2-attack\n",
    "3-time graph"
   ]
  },
  {
   "cell_type": "code",
   "execution_count": 11,
   "metadata": {},
   "outputs": [],
   "source": [
    "import socket   \n",
    "import math     \n",
    "import csv\n",
    "import numpy as np\n",
    "import json\n",
    "import time\n",
    "from matplotlib import pyplot as plt"
   ]
  },
  {
   "cell_type": "code",
   "execution_count": 12,
   "metadata": {},
   "outputs": [],
   "source": [
    "%run ./utils.ipynb "
   ]
  },
  {
   "cell_type": "code",
   "execution_count": 13,
   "metadata": {},
   "outputs": [
    {
     "name": "stdout",
     "output_type": "stream",
     "text": [
      "No of bits in prime is  32\n",
      "\n",
      "Random n-bit Prime (p):  42257\n",
      "\n",
      "Random n-bit Prime (q):  44641\n",
      "\n",
      "N=p*q= 1886394737\n",
      "E= 7\n",
      "D= 1347362743\n",
      "n= 1886394737\n",
      "==========Sending======================== How are you?     \n",
      "==========Reciving======================== fine thanks    \n",
      "==========Sending======================== \n"
     ]
    }
   ],
   "source": [
    "\n",
    "# =================================================================#\n",
    "#                          Alice                                   #\n",
    "#==================================================================#\n",
    "s=socket.socket(socket.AF_INET,socket.SOCK_STREAM)\n",
    "host=socket.gethostname()\n",
    "port=7634  \n",
    "s.connect((host,port))\n",
    "# =================================================================#\n",
    "#                          Reciving Bob Key                        #\n",
    "#==================================================================#\n",
    "keys = s.recv(1024).decode()\n",
    "keys = json.loads(keys)\n",
    "e_public_Bob = keys[0]\n",
    "n_public_Bob = keys[1]\n",
    "# =================================================================#\n",
    "#                          Sending my Key                          #\n",
    "#==================================================================#\n",
    "p,q,n_public_Alice=n_with_different_size()\n",
    "e_public_Alice,d_private_Alice=key_generation(p,q)\n",
    "print(\"E= \"+str(e_public_Alice))\n",
    "print(\"D= \"+str(d_private_Alice))\n",
    "print(\"n= \"+str(n_public_Alice))\n",
    "# Create a socket object\n",
    "public_key=[e_public_Alice , n_public_Alice]\n",
    "file = open('public_key_Alice.txt', 'w')\n",
    "file.truncate(0)\n",
    "file.write(str(e_public_Alice)+\"\\n\")\n",
    "file.write(str(n_public_Alice)+\"\\n\")\n",
    "file.close()\n",
    "keys_list = json.dumps(public_key)\n",
    "s.send(keys_list.encode())\n",
    "# =================================================================#\n",
    "#                          Chattting                               #\n",
    "#==================================================================#\n",
    "while True:\n",
    "    Message =input(\"Enter Message\")\n",
    "    print(\"==========Sending======================== \"+Message)\n",
    "    file = open('plain_cipher_Alice.txt', 'w')\n",
    "    file.truncate(0)\n",
    "    file.write(Message+\"\\n\")\n",
    "    file.close()\n",
    "    Sending_Message(Message,e_public_Bob,n_public_Bob,s,'Alice')\n",
    "    Message=Recieve_Message(d_private_Alice,n_public_Alice,s,'Alice')\n",
    "    print(\"==========Reciving======================== \"+Message)\n",
    "    file = open('decrypted_message_Alice.txt', 'w')\n",
    "    file.truncate(0)\n",
    "    file.write(str(Message)+\"\\n\")\n",
    "    file.close()      "
   ]
  }
 ],
 "metadata": {
  "kernelspec": {
   "display_name": "Python 3",
   "language": "python",
   "name": "python3"
  },
  "language_info": {
   "codemirror_mode": {
    "name": "ipython",
    "version": 3
   },
   "file_extension": ".py",
   "mimetype": "text/x-python",
   "name": "python",
   "nbconvert_exporter": "python",
   "pygments_lexer": "ipython3",
   "version": "3.11.2"
  },
  "orig_nbformat": 4,
  "vscode": {
   "interpreter": {
    "hash": "c261aea317cc0286b3b3261fbba9abdec21eaa57589985bb7a274bf54d6cc0a7"
   }
  }
 },
 "nbformat": 4,
 "nbformat_minor": 2
}
