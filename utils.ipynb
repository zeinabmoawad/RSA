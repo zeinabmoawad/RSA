{
 "cells": [
  {
   "cell_type": "code",
   "execution_count": 39,
   "metadata": {},
   "outputs": [],
   "source": [
    "import math     \n",
    "import csv\n",
    "import numpy as np\n",
    "import time\n",
    "import re\n",
    "import Crypto.Util.number"
   ]
  },
  {
   "cell_type": "code",
   "execution_count": 40,
   "metadata": {},
   "outputs": [],
   "source": [
    "def read_data(file_name):\n",
    "    file = open(file_name, \"r\")\n",
    "    data = list(csv.reader(file))\n",
    "    file.close()\n",
    "    A = np.array(data)\n",
    "    return A[:,0]"
   ]
  },
  {
   "cell_type": "code",
   "execution_count": 41,
   "metadata": {},
   "outputs": [],
   "source": [
    "characters=read_data('character.csv')"
   ]
  },
  {
   "cell_type": "code",
   "execution_count": 42,
   "metadata": {},
   "outputs": [],
   "source": [
    "def RSA_Ecrption(plain_text,e,n):\n",
    "    C=pow(int(plain_text),e,n)\n",
    "    return C"
   ]
  },
  {
   "cell_type": "code",
   "execution_count": null,
   "metadata": {},
   "outputs": [],
   "source": [
    "def mapping_character_to_num(plain_text,i):\n",
    "    M=0\n",
    "    for j in range(0,5,1):\n",
    "        if(i+j<len(plain_text)):\n",
    "              x=np.where(characters==(plain_text[i+j].lower()))\n",
    "              if(len(x[0])>0):\n",
    "                M+=x[0][0]*(37**(4-j))\n",
    "              else:\n",
    "                 M+=36*(37**(4-j))\n",
    "        else:\n",
    "           M+=36*(37**(4-j))\n",
    "    return M"
   ]
  },
  {
   "cell_type": "code",
   "execution_count": 43,
   "metadata": {},
   "outputs": [],
   "source": [
    "def Sending_Message(plain_text,e,n,socket,name):\n",
    "   C=0\n",
    "   for i in range(0, len(plain_text), 5):\n",
    "        if(i==0):\n",
    "          start = time.time()\n",
    "        M=mapping_character_to_num(plain_text,i)\n",
    "        C=RSA_Ecrption(M,e,n)\n",
    "        time.sleep(0.01)\n",
    "        socket.send(str(C).encode())\n",
    "        file = open('plain_cipher_'+name+'.txt', 'a')\n",
    "        file.write(str(C)+\"\\n\")\n",
    "        file.close()\n",
    "   end = time.time()\n",
    "   file = open('Encryption_time_of'+name+'.txt', 'a')\n",
    "   file.write(str(end-start)+\"\\n\")\n",
    "   file.close()     \n",
    "   return C"
   ]
  },
  {
   "cell_type": "code",
   "execution_count": 45,
   "metadata": {},
   "outputs": [],
   "source": [
    "def key_generation(p,q):\n",
    "  n=p*q\n",
    "  phi = (p-1)*(q-1)\n",
    "  e=2\n",
    "  while (e < phi):\n",
    "    if(math.gcd(e, phi) == 1):\n",
    "        break\n",
    "    else:\n",
    "        e = e+1\n",
    "  d =pow(e,-1,phi)\n",
    "  return e,d"
   ]
  },
  {
   "cell_type": "code",
   "execution_count": 46,
   "metadata": {},
   "outputs": [],
   "source": [
    "def Decryption(C,d,n):\n",
    "    P =pow(C,d,n)\n",
    "    return P"
   ]
  },
  {
   "cell_type": "code",
   "execution_count": null,
   "metadata": {},
   "outputs": [],
   "source": [
    "def num_to_mapping_character(P):\n",
    "     index=0\n",
    "     Message=\"\"\n",
    "     for i in range(0,5):\n",
    "          index=((P-index)%(37**(i+1)))//(37**i)\n",
    "          Message=str(characters[int(index)])+str(Message)\n",
    "     return Message    "
   ]
  },
  {
   "cell_type": "code",
   "execution_count": 47,
   "metadata": {},
   "outputs": [],
   "source": [
    "def Recieve_Message(d,n,connection,name):\n",
    "    end_of_message=False\n",
    "    all_message=\"\"\n",
    "    while(not(end_of_message)):\n",
    "        C=connection.recv(1024).decode()\n",
    "        if(all_message==\"\"):\n",
    "            start = time.time()\n",
    "        P=Decryption(int(C),d,n)\n",
    "        Message=num_to_mapping_character(P)\n",
    "        all_message=all_message+Message\n",
    "        if('     'in all_message):\n",
    "             end_of_message=True\n",
    "             all_message=all_message[0:len(all_message)-5]\n",
    "    end = time.time()\n",
    "    file = open('Decryption_time_of'+name+'.txt', 'a')\n",
    "    file.write(str(end-start)+\"\\n\")\n",
    "    file.close()\n",
    "    return all_message"
   ]
  },
  {
   "cell_type": "code",
   "execution_count": 48,
   "metadata": {},
   "outputs": [],
   "source": [
    "def checking_decryption(cipher_txt,Plain_txt,d,n):\n",
    "    all_message=''\n",
    "    for i in range(0,len(cipher_txt)):\n",
    "        P = Decryption(cipher_txt[i],d,n)\n",
    "        Message=num_to_mapping_character(P)\n",
    "        all_message+=Message \n",
    "        all_message=all_message.replace(\" \",\"\")\n",
    "    Plain_txt=re.sub('[^a-zA-Z0-9 \\n\\.]', ' ', Plain_txt.lower()).replace(\" \",\"\")\n",
    "    if all_message == Plain_txt:\n",
    "        print(\"Attacking sucessed\")\n",
    "        print(\"Plain: \"+Plain_txt)\n",
    "        print(\"Cipher: \"+all_message)\n",
    "    else:\n",
    "        print(\"Attacking failed\")\n",
    "        print(\"Plain: \"+Plain_txt)\n",
    "        print(\"Cipher: \"+all_message)\n",
    "    return Message "
   ]
  },
  {
   "cell_type": "code",
   "execution_count": 49,
   "metadata": {},
   "outputs": [],
   "source": [
    "def getting_phi_n(n):\n",
    "    phi=0\n",
    "    end_of_p_range=int(math.sqrt(n))\n",
    "    if(n%2==0):\n",
    "            p=2\n",
    "            q=n//p\n",
    "            phi=(p-1)*(q-1) \n",
    "    else:\n",
    "        for factor_of_n in range(3,end_of_p_range+1,2):\n",
    "                if(n%factor_of_n!=0):\n",
    "                    continue\n",
    "                else:\n",
    "                      p=factor_of_n\n",
    "                      q=n//p\n",
    "                      phi=(p-1)*(q-1)  \n",
    "    return phi"
   ]
  },
  {
   "cell_type": "code",
   "execution_count": 50,
   "metadata": {},
   "outputs": [],
   "source": [
    "def getting_d(n,e):\n",
    "    phi=getting_phi_n(n)\n",
    "    d =pow(e,-1,phi)\n",
    "    return d"
   ]
  },
  {
   "cell_type": "code",
   "execution_count": 51,
   "metadata": {},
   "outputs": [],
   "source": [
    "def n_with_different_size():\n",
    "        while(1):\n",
    "                bits =input(\"Enter Size of n more than or equal 28\")\n",
    "                bits=int(bits)\n",
    "                if(bits>=28):\n",
    "                        break\n",
    "        p_bits=bits//2\n",
    "        q_bits=bits-p_bits\n",
    "        print (\"No of bits in prime is \",bits)\n",
    "        p=Crypto.Util.number.getPrime(p_bits, randfunc=Crypto.Random.get_random_bytes)\n",
    "        print (\"\\nRandom n-bit Prime (p): \",p)\n",
    "        q=Crypto.Util.number.getPrime(q_bits, randfunc=Crypto.Random.get_random_bytes)\n",
    "        print (\"\\nRandom n-bit Prime (q): \",q)\n",
    "        n=p*q\n",
    "        print (\"\\nN=p*q=\",n)\n",
    "        return p,q,n\n"
   ]
  }
 ],
 "metadata": {
  "kernelspec": {
   "display_name": "Python 3",
   "language": "python",
   "name": "python3"
  },
  "language_info": {
   "codemirror_mode": {
    "name": "ipython",
    "version": 3
   },
   "file_extension": ".py",
   "mimetype": "text/x-python",
   "name": "python",
   "nbconvert_exporter": "python",
   "pygments_lexer": "ipython3",
   "version": "3.11.2"
  },
  "orig_nbformat": 4
 },
 "nbformat": 4,
 "nbformat_minor": 2
}
