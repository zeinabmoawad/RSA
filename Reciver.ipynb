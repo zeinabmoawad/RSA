{
 "cells": [
  {
   "cell_type": "code",
   "execution_count": 1,
   "metadata": {},
   "outputs": [],
   "source": [
    "import socket   \n",
    "import math     \n",
    "import csv\n",
    "import numpy as np\n",
    "import json\n",
    "from matplotlib import pyplot as plt"
   ]
  },
  {
   "cell_type": "code",
   "execution_count": 2,
   "metadata": {},
   "outputs": [],
   "source": [
    "%run ./utils.ipynb "
   ]
  },
  {
   "cell_type": "code",
   "execution_count": 3,
   "metadata": {},
   "outputs": [
    {
     "name": "stdout",
     "output_type": "stream",
     "text": [
      "got connection from  ('192.168.1.4', 6112)\n",
      "No of bits in prime is  32\n",
      "\n",
      "Random n-bit Prime (p):  63311\n",
      "\n",
      "Random n-bit Prime (q):  53861\n",
      "\n",
      "N=p*q= 3409993771\n",
      "E= 3\n",
      "D= 2273251067\n",
      "n= 3409993771\n",
      "==========Reciving========================how are you    \n",
      "=====================Sending=========================== fine,Thanks     \n"
     ]
    }
   ],
   "source": [
    "# =================================================================#\n",
    "#                          Bob                                     #\n",
    "#==================================================================#\n",
    "s = socket.socket(socket.AF_INET,socket.SOCK_STREAM)\n",
    "host = socket.gethostname()\n",
    "port = 7634\n",
    "s.bind((host,port))\n",
    "s.listen(5)\n",
    "con,addr = s.accept()\n",
    "print(\"got connection from \",addr)\n",
    "# =================================================================#\n",
    "#                          Sending my Key                          #\n",
    "#==================================================================#\n",
    "p,q,n_public_Bob=n_with_different_size()\n",
    "e_public_Bob,d_private_Bob=key_generation(p,q)\n",
    "print(\"E= \"+str(e_public_Bob))\n",
    "print(\"D= \"+str(d_private_Bob))\n",
    "print(\"n= \"+str(q*p))\n",
    "public_key=[e_public_Bob , n_public_Bob]\n",
    "file = open('public_key_Bob.txt', 'w')\n",
    "file.truncate(0)\n",
    "file.write(str(e_public_Bob)+\"\\n\")\n",
    "file.write(str(n_public_Bob)+\"\\n\")\n",
    "file.close()\n",
    "keys_list = json.dumps(public_key)\n",
    "con.send(keys_list.encode())\n",
    "# =================================================================#\n",
    "#                          Reciving Alice Key                      #\n",
    "#==================================================================#\n",
    "keys = con.recv(1024).decode()\n",
    "keys = json.loads(keys)\n",
    "e_public_Alice = keys[0]\n",
    "n_public_Alice = keys[1]\n",
    "# =================================================================#\n",
    "#                          Chattting                               #\n",
    "#==================================================================#\n",
    "Message=''\n",
    "while True:\n",
    "  Message=Recieve_Message(d_private_Bob,n_public_Bob,con,'Bob')\n",
    "  print(\"==========Reciving========================\"+Message)\n",
    "  file = open('decrypted_message_Bob.txt', 'w')\n",
    "  file.truncate(0)\n",
    "  file.write(str(Message)+\"\\n\")\n",
    "  file.close()\n",
    "\n",
    "  Message =input(\"Enter Message\")\n",
    "  file = open('plain_cipher_Bob.txt', 'w')\n",
    "  file.truncate(0)\n",
    "  file.write(Message+\"\\n\")\n",
    "  file.close()\n",
    "  print(\"=====================Sending=========================== \"+Message)\n",
    "  Cipher_text=Sending_Message(Message,e_public_Alice,n_public_Alice,con,'Bob')\n",
    "  file = open('plain_cipher_Bob.txt', 'a')\n",
    "  file.write(str(Cipher_text)+\"\\n\")\n",
    "  file.close()\n",
    "  \n"
   ]
  }
 ],
 "metadata": {
  "kernelspec": {
   "display_name": "Python 3",
   "language": "python",
   "name": "python3"
  },
  "language_info": {
   "codemirror_mode": {
    "name": "ipython",
    "version": 3
   },
   "file_extension": ".py",
   "mimetype": "text/x-python",
   "name": "python",
   "nbconvert_exporter": "python",
   "pygments_lexer": "ipython3",
   "version": "3.11.2"
  },
  "orig_nbformat": 4
 },
 "nbformat": 4,
 "nbformat_minor": 2
}
